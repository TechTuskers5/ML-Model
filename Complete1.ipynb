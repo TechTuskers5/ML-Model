{
 "cells": [
  {
   "cell_type": "code",
   "execution_count": null,
   "id": "5f3d753a-6cee-4367-b1cd-b301b7791303",
   "metadata": {},
   "outputs": [],
   "source": [
    "#importing the libraries into the model\n",
    "#pytesseract for text extraction\n",
    "#random forest classifier for training model and testing it"
   ]
  },
  {
   "cell_type": "code",
   "execution_count": 2,
   "id": "b588420e-04dc-4a79-8398-bb8580bc3b50",
   "metadata": {},
   "outputs": [],
   "source": [
    "import pytesseract\n",
    "from PIL import Image\n",
    "import pandas as pd\n",
    "import numpy as np\n",
    "from sklearn.model_selection import train_test_split\n",
    "from sklearn.ensemble import RandomForestClassifier\n",
    "from sklearn.metrics import classification_report\n",
    "import requests\n",
    "\n",
    "pytesseract.pytesseract.tesseract_cmd = r'C:\\Program Files\\Tesseract-OCR\\tesseract.exe'"
   ]
  },
  {
   "cell_type": "code",
   "execution_count": 4,
   "id": "2f1c4c21-dbee-4267-8828-0b234752b0d2",
   "metadata": {},
   "outputs": [],
   "source": [
    "# Function to extract text from image\n",
    "def extract_text_from_image(image_path):\n",
    "    image = Image.open(image_path)\n",
    "    text = pytesseract.image_to_string(image)\n",
    "    return text"
   ]
  },
  {
   "cell_type": "code",
   "execution_count": 5,
   "id": "c0e98a41-6f06-4c75-b566-b0a25ec59ff4",
   "metadata": {},
   "outputs": [],
   "source": [
    "#function to pre process lab data\n",
    "def preprocess_lab_data(text):\n",
    "    text = text.lower()\n",
    "    \n",
    "    lab_data = {}\n",
    "    prescription_data= {}\n",
    "    if 'hba1c: ' in text:\n",
    "        lab_data['HbA1c'] = float(text.split('hba1c: ')[1].split('%')[0])\n",
    "    else:\n",
    "        lab_data['HbA1c'] = None\n",
    "    \n",
    "    if 'blood pressure: ' in text:\n",
    "        lab_data['BloodPressure'] = text.split('blood pressure: ')[1].split('/')[0] + '/' + text.split('blood pressure: ')[1].split('/')[1].split(' ')[0]\n",
    "    else:\n",
    "        lab_data['BloodPressure'] = None\n",
    "    \n",
    "    if 'cholesterol: ' in text:\n",
    "        lab_data['Cholesterol'] = int(text.split('cholesterol: ')[1].split(' ')[0])\n",
    "    else:\n",
    "        lab_data['Cholesterol'] = None\n",
    "    \n",
    "    if 'bmi: ' in text:\n",
    "        lab_data['BMI'] = float(text.split('bmi: ')[1].split(' ')[0])\n",
    "    else:\n",
    "        lab_data['BMI'] = None\n",
    "    \n",
    "    if 'medications: ' in text:\n",
    "        prescription_data = text.split('medications: ')[1].split(':')\n",
    "    else:\n",
    "        prescription_data['medications']=None\n",
    "    if 'dosages: ' in text:\n",
    "        prescription_data['dosages']=text.split('dosages: ')[1].split(':')\n",
    "    else:\n",
    "        prescription_data['dosages']=None\n",
    "    if 'frequency: ' in text:\n",
    "        prescription_data['frequency']=text.split('frequency: ')[1].split(':')\n",
    "    else:\n",
    "        prescription_data['frequency']=None\n",
    "        \n",
    "        \n",
    "    \n",
    "    return lab_data, prescription_data"
   ]
  },
  {
   "cell_type": "code",
   "execution_count": 22,
   "id": "70c6333b-4d49-4109-aac8-ad07f9c936ef",
   "metadata": {},
   "outputs": [],
   "source": [
    "#analyze patients data according to disease \n",
    "def analyze_patient_data(lab_data, prescription_data, model):\n",
    "    features = [lab_data['HbA1c'], int(lab_data['BloodPressure'].split('/')[0]), lab_data['Cholesterol'], lab_data['BMI']]\n",
    "    prediction = model.predict([features])[0]\n",
    "    recommendations = []\n",
    "    observations = []\n",
    "\n",
    "    if prediction == 'Diabetes':\n",
    "        recommendations.append(\"Maintain a healthy diet, exercise regularly, and monitor blood sugar levels.\")\n",
    "        observations.append(\"High HbA1c indicates diabetes.\")\n",
    "        observations.append(\"Prescribed diabetes medication.\")\n",
    "    if prediction == 'Hypertension':\n",
    "        recommendations.append(\"Reduce salt intake, exercise regularly, and monitor blood pressure levels.\")\n",
    "        observations.append(\"High blood pressure indicates hypertension.\")\n",
    "        observations.append(\"Prescribed hypertension medication.\")\n",
    "    if prediction == 'Both':\n",
    "        recommendations.append(\"Follow a balanced diet, exercise regularly, and monitor both blood pressure and blood sugar levels.\")\n",
    "        observations.append(\"Signs of both diabetes and hypertension detected.\")\n",
    "    if prediction == 'None':\n",
    "        recommendations.append(\"Maintain a healthy lifestyle to prevent chronic diseases.\")\n",
    "        observations.append(\"No chronic diseases detected.\")\n",
    "    \n",
    "   \n",
    "    \n",
    "    return prediction, recommendations, observations"
   ]
  },
  {
   "cell_type": "code",
   "execution_count": 17,
   "id": "9d21ef52-5cce-4b7f-8304-f781c6b32a93",
   "metadata": {},
   "outputs": [
    {
     "name": "stdout",
     "output_type": "stream",
     "text": [
      "Index(['Name', 'Age', 'Gender', 'HbA1c', 'Blood Pressure (mm Hg)',\n",
      "       'Cholesterol (mg/dL)', 'BMI', 'Disease'],\n",
      "      dtype='object')\n",
      "              precision    recall  f1-score   support\n",
      "\n",
      "    Diabetes       1.00      1.00      1.00         9\n",
      "Hypertension       1.00      1.00      1.00        11\n",
      "\n",
      "    accuracy                           1.00        20\n",
      "   macro avg       1.00      1.00      1.00        20\n",
      "weighted avg       1.00      1.00      1.00        20\n",
      "\n"
     ]
    },
    {
     "name": "stderr",
     "output_type": "stream",
     "text": [
      "C:\\Users\\shiva\\AppData\\Local\\Temp\\ipykernel_18648\\1364077321.py:8: SettingWithCopyWarning: \n",
      "A value is trying to be set on a copy of a slice from a DataFrame.\n",
      "Try using .loc[row_indexer,col_indexer] = value instead\n",
      "\n",
      "See the caveats in the documentation: https://pandas.pydata.org/pandas-docs/stable/user_guide/indexing.html#returning-a-view-versus-a-copy\n",
      "  X['Blood Pressure (mm Hg)'] = X['Blood Pressure (mm Hg)'].apply(lambda x: int(x.split('/')[0]))  # Convert to numerical\n"
     ]
    }
   ],
   "source": [
    "df = pd.read_csv('health_dataset_1.csv')\n",
    "\n",
    "# Inspect column names\n",
    "print(df.columns)\n",
    "\n",
    "# Adjust column names based on actual names in the dataset\n",
    "X = df[['HbA1c', 'Blood Pressure (mm Hg)', 'Cholesterol (mg/dL)', 'BMI']]\n",
    "X['Blood Pressure (mm Hg)'] = X['Blood Pressure (mm Hg)'].apply(lambda x: int(x.split('/')[0]))  # Convert to numerical\n",
    "y = df['Disease']\n",
    "\n",
    "# Train-test split\n",
    "X_train, X_test, y_train, y_test = train_test_split(X, y, test_size=0.2, random_state=42)\n",
    "\n",
    "# Model training\n",
    "model = RandomForestClassifier(n_estimators=100, random_state=42)\n",
    "model.fit(X_train, y_train)\n",
    "\n",
    "# Model evaluation\n",
    "y_pred = model.predict(X_test)\n",
    "print(classification_report(y_test, y_pred))"
   ]
  },
  {
   "cell_type": "code",
   "execution_count": 23,
   "id": "4500b68b-30fc-437f-9da4-3bd0d418b937",
   "metadata": {},
   "outputs": [
    {
     "name": "stdout",
     "output_type": "stream",
     "text": [
      "Disease: Hypertension\n",
      "Recommendations: ['Reduce salt intake, exercise regularly, and monitor blood pressure levels.']\n",
      "Observations:\n",
      "- High blood pressure indicates hypertension.\n",
      "- Prescribed hypertension medication.\n"
     ]
    },
    {
     "name": "stderr",
     "output_type": "stream",
     "text": [
      "C:\\Users\\shiva\\AppData\\Local\\Programs\\Python\\Python313\\Lib\\site-packages\\sklearn\\utils\\validation.py:2739: UserWarning: X does not have valid feature names, but RandomForestClassifier was fitted with feature names\n",
      "  warnings.warn(\n"
     ]
    }
   ],
   "source": [
    "# Extract and preprocess data\n",
    "lab_report_text = extract_text_from_image(lab_report_path)\n",
    "prescription_text = extract_text_from_image(prescription_path)\n",
    "lab_data, prescription_data = preprocess_lab_data(lab_report_text + \"\\n\" + prescription_text)\n",
    "\n",
    "# Analyze patient data\n",
    "disease, recommendations, observations = analyze_patient_data(lab_data, prescription_data, model)\n",
    "\n",
    "# Print results\n",
    "print(\"Disease:\", disease)\n",
    "print(\"Recommendations:\", recommendations)\n",
    "print(\"Observations:\")\n",
    "for observation in observations:\n",
    "    print(\"-\", observation)"
   ]
  },
  {
   "cell_type": "code",
   "execution_count": null,
   "id": "307f5ad2-a1bc-404c-9bcc-f04a94563eeb",
   "metadata": {},
   "outputs": [],
   "source": []
  }
 ],
 "metadata": {
  "kernelspec": {
   "display_name": "Python 3 (ipykernel)",
   "language": "python",
   "name": "python3"
  },
  "language_info": {
   "codemirror_mode": {
    "name": "ipython",
    "version": 3
   },
   "file_extension": ".py",
   "mimetype": "text/x-python",
   "name": "python",
   "nbconvert_exporter": "python",
   "pygments_lexer": "ipython3",
   "version": "3.13.1"
  }
 },
 "nbformat": 4,
 "nbformat_minor": 5
}
